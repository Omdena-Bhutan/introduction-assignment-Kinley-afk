{
  "nbformat": 4,
  "nbformat_minor": 0,
  "metadata": {
    "colab": {
      "provenance": [],
      "authorship_tag": "ABX9TyOCWPcrGaqbLS3VBOX5qsGz",
      "include_colab_link": true
    },
    "kernelspec": {
      "name": "python3",
      "display_name": "Python 3"
    },
    "language_info": {
      "name": "python"
    }
  },
  "cells": [
    {
      "cell_type": "markdown",
      "metadata": {
        "id": "view-in-github",
        "colab_type": "text"
      },
      "source": [
        "<a href=\"https://colab.research.google.com/github/Omdena-Bhutan/introduction-assignment-Kinley-afk/blob/main/Assignment3.ipynb\" target=\"_parent\"><img src=\"https://colab.research.google.com/assets/colab-badge.svg\" alt=\"Open In Colab\"/></a>"
      ]
    },
    {
      "cell_type": "code",
      "execution_count": null,
      "metadata": {
        "id": "JGDBja8JBpNy"
      },
      "outputs": [],
      "source": [
        "#Assignment 3\n",
        "'''Go and research and practice how to use these in functions\n",
        "1. Keyword arguments\n",
        "2. Variable number of arguments\n",
        "3. *args and **kwargs'''"
      ]
    },
    {
      "cell_type": "code",
      "source": [
        "#1. Keyword argument\n",
        "def greet(name, age):\n",
        "    print(f\"Hello, {name}. You are {age} years old.\")\n",
        "\n",
        "greet(name=\"Alice\", age=30)"
      ],
      "metadata": {
        "id": "rBQpkdLsCACu"
      },
      "execution_count": null,
      "outputs": []
    },
    {
      "cell_type": "code",
      "source": [
        "#2. Variable number of arguments\n",
        "def add_numbers(*args):\n",
        "    return sum(args)\n",
        "\n",
        "result = add_numbers(1, 2, 3, 4)\n",
        "print(result)"
      ],
      "metadata": {
        "id": "o0JLyzS7CLi1"
      },
      "execution_count": null,
      "outputs": []
    },
    {
      "cell_type": "code",
      "source": [
        "#*args and **kwargs\n",
        "def describe_pet(pet_name, *args, **kwargs):\n",
        "    print(f\"Pet Name: {pet_name}\")\n",
        "    if args:\n",
        "        print(\"Other Attributes:\")\n",
        "        for arg in args:\n",
        "            print(f\"- {arg}\")\n",
        "    if kwargs:\n",
        "        print(\"Additional Information:\")\n",
        "        for key, value in kwargs.items():\n",
        "            print(f\"{key}: {value}\")\n",
        "\n",
        "describe_pet(\"Buddy\", \"Dog\", \"Brown\", age=5, owner=\"Alice\")"
      ],
      "metadata": {
        "id": "DRDlC88oCbqd"
      },
      "execution_count": null,
      "outputs": []
    }
  ]
}