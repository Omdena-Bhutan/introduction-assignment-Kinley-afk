{
  "nbformat": 4,
  "nbformat_minor": 0,
  "metadata": {
    "colab": {
      "provenance": [],
      "authorship_tag": "ABX9TyOm+WcgL9OFRyqGMCxfTuTI",
      "include_colab_link": true
    },
    "kernelspec": {
      "name": "python3",
      "display_name": "Python 3"
    },
    "language_info": {
      "name": "python"
    }
  },
  "cells": [
    {
      "cell_type": "markdown",
      "metadata": {
        "id": "view-in-github",
        "colab_type": "text"
      },
      "source": [
        "<a href=\"https://colab.research.google.com/github/Omdena-Bhutan/introduction-assignment-Kinley-afk/blob/main/31_Aug.ipynb\" target=\"_parent\"><img src=\"https://colab.research.google.com/assets/colab-badge.svg\" alt=\"Open In Colab\"/></a>"
      ]
    },
    {
      "cell_type": "code",
      "execution_count": null,
      "metadata": {
        "id": "q6W8A1iRMFgX"
      },
      "outputs": [],
      "source": [
        "#list\n",
        "fruits = [\"Apple\", \"banana\", \"Cherry\"]\n",
        "fruits.append(\"Mango\")\n",
        "fruits[0] = \"Orange\"\n",
        "fruits[1] = \"Apple\"\n",
        "print(fruits)"
      ]
    },
    {
      "cell_type": "code",
      "source": [
        "#dictionary\n",
        "dic = {\n",
        "    \"name\" : \"Kinley\",\n",
        "    \"age\" : 12\n",
        "}\n",
        "\n",
        "print(dic[\"name\"])\n",
        "dic.pop(\"age\")\n",
        "dic[\"city\"] = \"Bhutan\"\n",
        "print(dic)"
      ],
      "metadata": {
        "id": "pZkXM6kGUkAu"
      },
      "execution_count": null,
      "outputs": []
    },
    {
      "cell_type": "code",
      "source": [
        "#Set\n",
        "x = {9,3,5,1,0}   #will arrange in order and no duplicate automatically\n",
        "x.add(2)\n",
        "x.remove(0)\n",
        "print(x)"
      ],
      "metadata": {
        "id": "NDhPrrA9Z7id"
      },
      "execution_count": null,
      "outputs": []
    },
    {
      "cell_type": "code",
      "source": [],
      "metadata": {
        "id": "sh6dpPtlctTC"
      },
      "execution_count": null,
      "outputs": []
    }
  ]
}