{
  "nbformat": 4,
  "nbformat_minor": 0,
  "metadata": {
    "colab": {
      "provenance": [],
      "authorship_tag": "ABX9TyMAdICI6BJIpq0spzD0EjlK",
      "include_colab_link": true
    },
    "kernelspec": {
      "name": "python3",
      "display_name": "Python 3"
    },
    "language_info": {
      "name": "python"
    }
  },
  "cells": [
    {
      "cell_type": "markdown",
      "metadata": {
        "id": "view-in-github",
        "colab_type": "text"
      },
      "source": [
        "<a href=\"https://colab.research.google.com/github/Omdena-Bhutan/introduction-assignment-Kinley-afk/blob/main/Assignment4.ipynb\" target=\"_parent\"><img src=\"https://colab.research.google.com/assets/colab-badge.svg\" alt=\"Open In Colab\"/></a>"
      ]
    },
    {
      "cell_type": "code",
      "execution_count": null,
      "metadata": {
        "id": "0-PDBbopCx1_"
      },
      "outputs": [],
      "source": [
        "#Assingment 4: Student Grade Calculater\n",
        "'''Write a python program that will:\n",
        "1. Define a function called calculate_grade(marks) that:\n",
        "-Takes marks(0-100) as input\n",
        "-Returns the grade based on this scale\n",
        "  -90-100 --> A\n",
        "  -90-89 --> B\n",
        "  -70-79 --> C\n",
        "  -60-69 --> D\n",
        "  -Below 60 --> Failed\n",
        "2. Ask the user to enter their marks\n",
        "3. Call the function and print your grade is : X'''"
      ]
    },
    {
      "cell_type": "code",
      "source": [
        "def calculate_grade(marks):\n",
        "    if 90 <= marks <= 100:\n",
        "        return 'A'\n",
        "    elif 80 <= marks < 90:\n",
        "        return 'B'\n",
        "    elif 70 <= marks < 80:\n",
        "        return 'C'\n",
        "    elif 60 <= marks < 70:\n",
        "        return 'D'\n",
        "    else:\n",
        "        return 'Failed'\n",
        "\n",
        "marks = int(input(\"Enter your marks (0-100): \"))\n",
        "\n",
        "grade = calculate_grade(marks)\n",
        "print(f\"Your grade is: {grade}\")"
      ],
      "metadata": {
        "id": "bs4cH7aKC2E6"
      },
      "execution_count": null,
      "outputs": []
    }
  ]
}