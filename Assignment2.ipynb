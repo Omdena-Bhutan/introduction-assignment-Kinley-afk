{
  "nbformat": 4,
  "nbformat_minor": 0,
  "metadata": {
    "colab": {
      "provenance": [],
      "authorship_tag": "ABX9TyP1M9BVX2a9Ce2ftUbZFtQM",
      "include_colab_link": true
    },
    "kernelspec": {
      "name": "python3",
      "display_name": "Python 3"
    },
    "language_info": {
      "name": "python"
    }
  },
  "cells": [
    {
      "cell_type": "markdown",
      "metadata": {
        "id": "view-in-github",
        "colab_type": "text"
      },
      "source": [
        "<a href=\"https://colab.research.google.com/github/Omdena-Bhutan/introduction-assignment-Kinley-afk/blob/main/Assignment2.ipynb\" target=\"_parent\"><img src=\"https://colab.research.google.com/assets/colab-badge.svg\" alt=\"Open In Colab\"/></a>"
      ]
    },
    {
      "cell_type": "code",
      "execution_count": null,
      "metadata": {
        "id": "OikxEH86AoPI"
      },
      "outputs": [],
      "source": [
        "# Assignment 2: Number Guessing Game\n",
        "'''Write a python program that:\n",
        "1. Picks a secret number\n",
        "2. Asks the user to guess the number\n",
        "3. Keep asking until the user guesses correctly. (using a while loop)\n",
        "4. Print congratulations! You guessed correctly when correct.'''"
      ]
    },
    {
      "cell_type": "code",
      "source": [
        "import random\n",
        "\n",
        "secret_number = random.randint(1, 10)\n",
        "\n",
        "\n",
        "while True:\n",
        "    guess = int(input(\"Guess the secret number (between 1 and 10): \"))\n",
        "\n",
        "    if guess == secret_number:\n",
        "        print(\"Congratulations! You guessed correctly.\")\n",
        "        break\n",
        "    else:\n",
        "        print(\"Try again!\")"
      ],
      "metadata": {
        "id": "q4JFCj_RBK39"
      },
      "execution_count": null,
      "outputs": []
    }
  ]
}