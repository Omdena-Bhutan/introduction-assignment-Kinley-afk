{
  "nbformat": 4,
  "nbformat_minor": 0,
  "metadata": {
    "colab": {
      "provenance": [],
      "authorship_tag": "ABX9TyPbpIp7c5XxhozIyrr/8B4V",
      "include_colab_link": true
    },
    "kernelspec": {
      "name": "python3",
      "display_name": "Python 3"
    },
    "language_info": {
      "name": "python"
    }
  },
  "cells": [
    {
      "cell_type": "markdown",
      "metadata": {
        "id": "view-in-github",
        "colab_type": "text"
      },
      "source": [
        "<a href=\"https://colab.research.google.com/github/Omdena-Bhutan/introduction-assignment-Kinley-afk/blob/main/Assignment1.ipynb\" target=\"_parent\"><img src=\"https://colab.research.google.com/assets/colab-badge.svg\" alt=\"Open In Colab\"/></a>"
      ]
    },
    {
      "cell_type": "code",
      "execution_count": null,
      "metadata": {
        "id": "0R3eqmnV80_S"
      },
      "outputs": [],
      "source": [
        "#Assignment 1\n",
        "'''A cimema gives discounts based on age\n",
        "- Children below 12 years pay 300\n",
        "- Teens between 12 - 17 pays 500\n",
        "- Adult (18 - 59) pays 800\n",
        "- Seniors (60+) pays 400\n",
        "\n",
        "Write a python that:\n",
        "1. Asks the user to enter their age\n",
        "2. Uses an if statement to decide the ticket price\n",
        "3. Print your ticket price is xxx where xxx is an amount.\n",
        "\n",
        "Extra challenge\n",
        "- Add another condition: if today is Wednesday, everyone get a 100 off.'''"
      ]
    },
    {
      "cell_type": "code",
      "source": [
        "from datetime import datetime\n",
        "\n",
        "# Get the current day\n",
        "current_day = datetime.now().strftime(\"%A\")\n",
        "\n",
        "age = int(input(\"Enter your age: \"))\n",
        "\n",
        "if age < 12:\n",
        "    price = 300\n",
        "elif 12 <= age <= 17:\n",
        "    price = 300\n",
        "elif 18 <= age <= 59:\n",
        "    price = 800\n",
        "else:\n",
        "    price = 400\n",
        "\n",
        "if current_day == \"Wednesday\":\n",
        "    price -= 100\n",
        "\n",
        "print(f\"Your ticket price is {price}\")"
      ],
      "metadata": {
        "id": "AUf1ZAz4_2oz"
      },
      "execution_count": null,
      "outputs": []
    }
  ]
}